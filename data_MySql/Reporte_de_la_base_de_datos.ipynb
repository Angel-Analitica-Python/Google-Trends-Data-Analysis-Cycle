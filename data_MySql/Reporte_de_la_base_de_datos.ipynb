{
  "nbformat": 4,
  "nbformat_minor": 0,
  "metadata": {
    "colab": {
      "provenance": []
    },
    "kernelspec": {
      "name": "python3",
      "display_name": "Python 3"
    },
    "language_info": {
      "name": "python"
    }
  },
  "cells": [
    {
      "cell_type": "markdown",
      "source": [
        "# **Reporte de la Base de Datos**:"
      ],
      "metadata": {
        "id": "Wrgmb7BA6_RT"
      }
    },
    {
      "cell_type": "markdown",
      "source": [
        "### **\"Visualización_de_datos_y_desarrollo_de_escritorio\"**:\n",
        "\n",
        "\n",
        "\n"
      ],
      "metadata": {
        "id": "WM9jujAY7EUx"
      }
    },
    {
      "cell_type": "markdown",
      "source": [
        "1. La base de datos se llama \"Visualización_de_datos_y_desarrollo_de_escritorio\".\n",
        "\n",
        "2. La base de datos contiene cuatro tablas: PAIS, REGION, INTERES y INTERESADOS.\n",
        "\n",
        "3. La tabla \"PAIS\" tiene dos columnas: ID_PAIS y PAIS. La columna ID_PAIS es de tipo TINYINT y se utiliza como clave primaria de la tabla. La columna PAIS es de tipo VARCHAR y se utiliza para almacenar el nombre del país.\n",
        "\n",
        "4. La tabla \"REGION\" tiene dos columnas: ID_REGION y REGION. La columna ID_REGION es de tipo TINYINT y se utiliza como clave primaria de la tabla. La columna REGION es de tipo VARCHAR y se utiliza para almacenar el nombre de la región.\n",
        "\n",
        "5. La tabla \"INTERES\" tiene dos columnas: ID_TEMA y TEMA. La columna ID_TEMA es de tipo TINYINT y se utiliza como clave primaria de la tabla. La columna TEMA es de tipo VARCHAR y se utiliza para almacenar el nombre del tema de interés.\n",
        "\n",
        "6. La tabla \"INTERESADOS\" tiene cuatro columnas: ID_INTERESADOS, ID_PAIS, ID_REGION e ID_TEMA. La columna ID_INTERESADOS es de tipo SMALLINT y se utiliza como clave primaria de la tabla. Las columnas ID_PAIS, ID_REGION e ID_TEMA son de tipo TINYINT y se utilizan como claves foráneas que hacen referencia a las tablas PAIS, REGION e INTERES, respectivamente.\n",
        "\n",
        "7. La tabla \"INTERESADOS\" está diseñada para almacenar información sobre las personas que están interesadas en diferentes temas. Cada registro en esta tabla representa un interés de una persona en un tema específico, en un país y una región específicos.\n",
        "\n",
        "8. Las tablas PAIS, REGION e INTERES se utilizan para proporcionar información adicional sobre los países, regiones y temas de interés, respectivamente. \n",
        "\n",
        "9. La base de datos utiliza restricciones de clave primaria y clave foránea para garantizar la integridad de los datos.\n"
      ],
      "metadata": {
        "id": "zeVROCWV7KVs"
      }
    },
    {
      "cell_type": "markdown",
      "source": [
        "En resumen, la base de datos \"Visualización_de_datos_y_desarrollo_de_escritorio\" está diseñada para almacenar información sobre personas interesadas en diferentes temas, junto con información adicional sobre países y regiones. Esta base de datos puede ser utilizada por organizaciones para analizar y visualizar los intereses de las personas en diferentes regiones y países, lo que puede ser útil para la planificación de estrategias y la toma de decisiones."
      ],
      "metadata": {
        "id": "fwrOhzoZ8GHF"
      }
    },
    {
      "cell_type": "markdown",
      "source": [
        "Reporte desarrollado por:\n",
        "**Angel Alejandro Galaviz Rivera 2004124**"
      ],
      "metadata": {
        "id": "CvBSoAD_8JKk"
      }
    }
  ]
}